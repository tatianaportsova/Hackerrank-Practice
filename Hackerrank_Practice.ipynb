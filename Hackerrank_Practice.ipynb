{
  "nbformat": 4,
  "nbformat_minor": 0,
  "metadata": {
    "colab": {
      "name": "Hackerrank-Practice.ipynb",
      "provenance": [],
      "authorship_tag": "ABX9TyM/lM1L4Bv2VEy5IknjVjcr",
      "include_colab_link": true
    },
    "kernelspec": {
      "name": "python3",
      "display_name": "Python 3"
    }
  },
  "cells": [
    {
      "cell_type": "markdown",
      "metadata": {
        "id": "view-in-github",
        "colab_type": "text"
      },
      "source": [
        "<a href=\"https://colab.research.google.com/github/tatianaportsova/Hackerrank-Practice/blob/master/Hackerrank_Practice.ipynb\" target=\"_parent\"><img src=\"https://colab.research.google.com/assets/colab-badge.svg\" alt=\"Open In Colab\"/></a>"
      ]
    },
    {
      "cell_type": "code",
      "metadata": {
        "id": "ppk_IMDwYC2l",
        "colab_type": "code",
        "colab": {}
      },
      "source": [
        "if __name__ == '__main__':\n",
        "    n = int(input())\n",
        "\n",
        "    [print(i**2) for i in range(n)]"
      ],
      "execution_count": 0,
      "outputs": []
    },
    {
      "cell_type": "code",
      "metadata": {
        "id": "kGMI-Io1YXjM",
        "colab_type": "code",
        "colab": {}
      },
      "source": [
        "if __name__ == '__main__':\n",
        "    x = int(input())\n",
        "    y = int(input())\n",
        "    z = int(input())\n",
        "    n = int(input())\n",
        "    print([[a, b, c] for a in range(0,x+1) \n",
        "                 for b in range(0,y+1) \n",
        "                 for c in range(0,z+1) \n",
        "                 if a+b+c != n])\n",
        "                            "
      ],
      "execution_count": 0,
      "outputs": []
    },
    {
      "cell_type": "code",
      "metadata": {
        "id": "V-mkvmVoaWuh",
        "colab_type": "code",
        "colab": {}
      },
      "source": [
        "import math\n",
        "import os\n",
        "import random\n",
        "import re\n",
        "import sys\n",
        "# Complete the birthday function below.\n",
        "def birthday(s, d, m):\n",
        "    counter = 0\n",
        "    for i in range(len(s)):\n",
        "        if sum(s[i:i+m]) ==d:\n",
        "            counter += 1\n",
        "    return counter\n",
        "if __name__ == '__main__':\n",
        "    fptr = open(os.environ['OUTPUT_PATH'], 'w')\n",
        "    n = int(input().strip())\n",
        "    s = list(map(int, input().rstrip().split()))\n",
        "    dm = input().rstrip().split()\n",
        "    d = int(dm[0])\n",
        "    m = int(dm[1])\n",
        "    result = birthday(s, d, m)\n",
        "    fptr.write(str(result) + '\\n')\n",
        "    fptr.close()"
      ],
      "execution_count": 0,
      "outputs": []
    },
    {
      "cell_type": "code",
      "metadata": {
        "id": "p7Cc5RVRaYDC",
        "colab_type": "code",
        "colab": {}
      },
      "source": [
        "import math\n",
        "import os\n",
        "import random\n",
        "import re\n",
        "import sys\n",
        "# Complete the hurdleRace function below.\n",
        "def hurdleRace(k, height):\n",
        "    if k < max(height):\n",
        "        return max(height)-k\n",
        "    else:\n",
        "        return 0\n",
        "        \n",
        "if __name__ == '__main__':\n",
        "    fptr = open(os.environ['OUTPUT_PATH'], 'w')\n",
        "    nk = input().split()\n",
        "    n = int(nk[0])\n",
        "    k = int(nk[1])\n",
        "    height = list(map(int, input().rstrip().split()))\n",
        "    result = hurdleRace(k, height)\n",
        "    fptr.write(str(result) + '\\n')\n",
        "    fptr.close()"
      ],
      "execution_count": 0,
      "outputs": []
    }
  ]
}